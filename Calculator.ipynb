{
  "nbformat": 4,
  "nbformat_minor": 0,
  "metadata": {
    "colab": {
      "provenance": [],
      "authorship_tag": "ABX9TyOWQWhduCOrOs50CRiDLZx9",
      "include_colab_link": true
    },
    "kernelspec": {
      "name": "python3",
      "display_name": "Python 3"
    },
    "language_info": {
      "name": "python"
    }
  },
  "cells": [
    {
      "cell_type": "markdown",
      "metadata": {
        "id": "view-in-github",
        "colab_type": "text"
      },
      "source": [
        "<a href=\"https://colab.research.google.com/github/VenisettyVarsha/CodSoft-Tasks/blob/main/Calculator.ipynb\" target=\"_parent\"><img src=\"https://colab.research.google.com/assets/colab-badge.svg\" alt=\"Open In Colab\"/></a>"
      ]
    },
    {
      "cell_type": "code",
      "execution_count": null,
      "metadata": {
        "id": "YedZwSO3sVpm"
      },
      "outputs": [],
      "source": [
        "def calculate(num1, op, num2):\n",
        "    if op == '+':\n",
        "        return num1 + num2\n",
        "    elif op == '-':\n",
        "        return num1 - num2\n",
        "    elif op == '*':\n",
        "        return num1 * num2\n",
        "    elif op == '/':\n",
        "        return num1 / num2\n",
        "    elif op == '%':\n",
        "        return num1 % num2\n",
        "    elif op == '^':\n",
        "        return pow(num1, num2)\n",
        "    else:\n",
        "        print(\"Invalid operation selected.\")\n",
        "num1 = int(input(\"Enter number 1:\"))\n",
        "op = input(\"Enter operator:\")\n",
        "num2 = int(input(\"Enter number 2:\"))\n",
        "result = calculate(num1, op, num2)\n",
        "print(f\"Answer: {result}\")\n"
      ]
    }
  ]
}