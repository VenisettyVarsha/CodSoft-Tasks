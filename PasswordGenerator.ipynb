{
  "nbformat": 4,
  "nbformat_minor": 0,
  "metadata": {
    "colab": {
      "provenance": [],
      "authorship_tag": "ABX9TyPAQyDZLplzxrlL7uzir0fP",
      "include_colab_link": true
    },
    "kernelspec": {
      "name": "python3",
      "display_name": "Python 3"
    },
    "language_info": {
      "name": "python"
    }
  },
  "cells": [
    {
      "cell_type": "markdown",
      "metadata": {
        "id": "view-in-github",
        "colab_type": "text"
      },
      "source": [
        "<a href=\"https://colab.research.google.com/github/VenisettyVarsha/CodSoft-Tasks/blob/main/PasswordGenerator.ipynb\" target=\"_parent\"><img src=\"https://colab.research.google.com/assets/colab-badge.svg\" alt=\"Open In Colab\"/></a>"
      ]
    },
    {
      "cell_type": "code",
      "execution_count": null,
      "metadata": {
        "id": "MgiTvGzpsh-_"
      },
      "outputs": [],
      "source": [
        "import random\n",
        "def password_generator():\n",
        "    a = int(input(\"Enter your choice for the length of the password: \"))\n",
        "    chars = \"ABCDEFGHIJKLMNOPQRSTUVWXYZabcdefghijklmnopqrstuvwxyz0123456789*&_%#@$+-\"\n",
        "    password = \"\"\n",
        "    for I in range(a):\n",
        "        random_char = random.choice(chars)\n",
        "        password += random_char\n",
        "    return password\n",
        "while True:\n",
        "    password = password_generator()\n",
        "    print(\"Your password is:\", password)\n",
        "    b = input(\"Do you want to generate another password? (y/n): \")\n",
        "    if b == \"n\":\n",
        "        break\n"
      ]
    }
  ]
}