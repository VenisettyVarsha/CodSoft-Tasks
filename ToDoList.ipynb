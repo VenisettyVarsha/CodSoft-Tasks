{
  "nbformat": 4,
  "nbformat_minor": 0,
  "metadata": {
    "colab": {
      "provenance": [],
      "authorship_tag": "ABX9TyN0S+4jyr81QqttDoT1nIg1",
      "include_colab_link": true
    },
    "kernelspec": {
      "name": "python3",
      "display_name": "Python 3"
    },
    "language_info": {
      "name": "python"
    }
  },
  "cells": [
    {
      "cell_type": "markdown",
      "metadata": {
        "id": "view-in-github",
        "colab_type": "text"
      },
      "source": [
        "<a href=\"https://colab.research.google.com/github/VenisettyVarsha/CodSoft-Tasks/blob/main/ToDoList.ipynb\" target=\"_parent\"><img src=\"https://colab.research.google.com/assets/colab-badge.svg\" alt=\"Open In Colab\"/></a>"
      ]
    },
    {
      "cell_type": "code",
      "execution_count": null,
      "metadata": {
        "colab": {
          "base_uri": "https://localhost:8080/"
        },
        "id": "zUTJEAUGrHfO",
        "outputId": "de52f799-6692-4a24-bbaa-2c0e06b82fce"
      },
      "outputs": [
        {
          "output_type": "stream",
          "name": "stdout",
          "text": [
            "\n",
            "To-Do List Application\n",
            "1. Add Task\n",
            "2. List Tasks\n",
            "3. Complete Task\n",
            "4. Delete Task\n",
            "5. Update Task\n",
            "6. Exit\n"
          ]
        }
      ],
      "source": [
        "import sys\n",
        "class ToDoList:\n",
        "    def __init__(self):\n",
        "        self.tasks = []\n",
        "    def add_task(self, task):\n",
        "        self.tasks.append({'task': task, 'completed': False})\n",
        "        print(f'Task \"{task}\" added.')\n",
        "    def list_tasks(self):\n",
        "        if not self.tasks:\n",
        "            print(\"No tasks in the list.\")\n",
        "        else:\n",
        "            for index, task in enumerate(self.tasks, start=1):\n",
        "                status = \"Completed\" if task['completed'] else \"Not Completed\"\n",
        "                print(f\"{index}. {task['task']} - {status}\")\n",
        "    def complete_task(self, task_index):\n",
        "        if 0 < task_index <= len(self.tasks):\n",
        "            self.tasks[task_index - 1]['completed'] = True\n",
        "            print(f\"Task {task_index} marked as completed.\")\n",
        "        else:\n",
        "            print(\"Invalid task number.\")\n",
        "    def delete_task(self, task_index):\n",
        "        if 0 < task_index <= len(self.tasks):\n",
        "            task = self.tasks.pop(task_index - 1)\n",
        "            print(f\"Task '{task['task']}' deleted.\")\n",
        "        else:\n",
        "            print(\"Invalid task number.\")\n",
        "    def update_task(self, task_index, new_task):\n",
        "        if 0 < task_index <= len(self.tasks):\n",
        "            self.tasks[task_index - 1]['task'] = new_task\n",
        "            print(f\"Task {task_index} updated to '{new_task}'.\")\n",
        "        else:\n",
        "            print(\"Invalid task number.\")\n",
        "def main():\n",
        "    todo_list = ToDoList()\n",
        "    while True:\n",
        "        print(\"\\nTo-Do List Application\")\n",
        "        print(\"1. Add Task\")\n",
        "        print(\"2. List Tasks\")\n",
        "        print(\"3. Complete Task\")\n",
        "        print(\"4. Delete Task\")\n",
        "        print(\"5. Update Task\")\n",
        "        print(\"6. Exit\")\n",
        "        choice = input(\"Enter your choice: \")\n",
        "        if choice == '1':\n",
        "            task = input(\"Enter the task: \")\n",
        "            todo_list.add_task(task)\n",
        "        elif choice == '2':\n",
        "            todo_list.list_tasks()\n",
        "        elif choice == '3':\n",
        "            task_index = int(input(\"Enter the task number to complete: \"))\n",
        "            todo_list.complete_task(task_index)\n",
        "        elif choice == '4':\n",
        "            task_index = int(input(\"Enter the task number to delete: \"))\n",
        "            todo_list.delete_task(task_index)\n",
        "        elif choice == '5':\n",
        "            task_index = int(input(\"Enter the task number to update: \"))\n",
        "            new_task = input(\"Enter the new task: \")\n",
        "            todo_list.update_task(task_index, new_task)\n",
        "        elif choice == '6':\n",
        "            print(\"Exit.\")\n",
        "            break\n",
        "        else:\n",
        "            print(\"Invalid choice. Please try again.\")\n",
        "if __name__ == \"__main__\":\n",
        "    main()\n"
      ]
    }
  ]
}