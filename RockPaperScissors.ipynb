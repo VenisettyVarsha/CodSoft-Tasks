{
  "nbformat": 4,
  "nbformat_minor": 0,
  "metadata": {
    "colab": {
      "provenance": [],
      "authorship_tag": "ABX9TyP1wSn/LAMSFsfiJmo1aaKl",
      "include_colab_link": true
    },
    "kernelspec": {
      "name": "python3",
      "display_name": "Python 3"
    },
    "language_info": {
      "name": "python"
    }
  },
  "cells": [
    {
      "cell_type": "markdown",
      "metadata": {
        "id": "view-in-github",
        "colab_type": "text"
      },
      "source": [
        "<a href=\"https://colab.research.google.com/github/VenisettyVarsha/CodSoft-Tasks/blob/main/RockPaperScissors.ipynb\" target=\"_parent\"><img src=\"https://colab.research.google.com/assets/colab-badge.svg\" alt=\"Open In Colab\"/></a>"
      ]
    },
    {
      "cell_type": "code",
      "execution_count": null,
      "metadata": {
        "id": "3cHRI26DsgVl"
      },
      "outputs": [],
      "source": [
        "import random\n",
        "def get_user_choice():\n",
        "    choices = {'r': 'rock', 'p': 'paper', 's': 'scissors'}\n",
        "    while True:\n",
        "        user_input = input(\"Choose (r)ock, (p)aper, or (s)cissors: \").lower()\n",
        "        if user_input in choices:\n",
        "            return choices[user_input]\n",
        "        print(\"Invalid choice. Please choose again.\")\n",
        "def get_computer_choice():\n",
        "    return random.choice(['rock', 'paper', 'scissors'])\n",
        "def determine_winner(user_choice, computer_choice):\n",
        "    outcomes = {\n",
        "        ('rock', 'scissors'): 'user',\n",
        "        ('scissors', 'paper'): 'user',\n",
        "        ('paper', 'rock'): 'user',\n",
        "        ('scissors', 'rock'): 'computer',\n",
        "        ('paper', 'scissors'): 'computer',\n",
        "        ('rock', 'paper'): 'computer'\n",
        "    }\n",
        "    if user_choice == computer_choice:\n",
        "        return 'tie'\n",
        "    return outcomes.get((user_choice, computer_choice))\n",
        "def display_result(user_choice, computer_choice, result):\n",
        "    print(f\"\\nYou chose: {user_choice}\")\n",
        "    print(f\"Computer chose: {computer_choice}\")\n",
        "    if result == \"tie\":\n",
        "        print(\"It's a tie!\")\n",
        "    elif result == \"user\":\n",
        "        print(\"You win!\")\n",
        "    else:\n",
        "        print(\"You lose!\")\n",
        "def play_again():\n",
        "    while True:\n",
        "        choice = input(\"\\nDo you want to play another round? (y/n): \").lower()\n",
        "        if choice in ['y', 'n']:\n",
        "            return choice == 'y'\n",
        "        print(\"Invalid choice. Please answer with y or n.\")\n",
        "def main():\n",
        "    user_score = 0\n",
        "    computer_score = 0\n",
        "    while True:\n",
        "        user_choice = get_user_choice()\n",
        "        computer_choice = get_computer_choice()\n",
        "        result = determine_winner(user_choice, computer_choice)\n",
        "        if result == \"user\":\n",
        "            user_score += 1\n",
        "        elif result == \"computer\":\n",
        "            computer_score += 1\n",
        "        display_result(user_choice, computer_choice, result)\n",
        "        print(f\"Scores - You: {user_score}, Computer: {computer_score}\")\n",
        "        if not play_again():\n",
        "            print(f\"Thanks for playing! \")\n",
        "            print(f\"Final scores - You: {user_score}, Computer: {computer_score}\")\n",
        "            break\n",
        "if __name__ == \"__main__\":\n",
        "    main()\n"
      ]
    }
  ]
}